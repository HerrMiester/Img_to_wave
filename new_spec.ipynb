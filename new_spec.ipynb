{
 "cells": [
  {
   "cell_type": "code",
   "execution_count": 14,
   "outputs": [
    {
     "name": "stdout",
     "output_type": "stream",
     "text": [
      "Spec save like DuHast(бас).tiff\n"
     ]
    },
    {
     "data": {
      "text/plain": "array([[-33.80713  , -33.80713  , -33.80713  , ..., -33.80713  ,\n        -14.155909 , -10.637502 ],\n       [-33.80713  , -33.80713  , -33.80713  , ..., -33.80713  ,\n        -14.277291 , -10.641646 ],\n       [-33.80713  , -33.80713  , -33.80713  , ..., -33.706696 ,\n        -14.3887005, -11.470326 ],\n       ...,\n       [-33.80713  , -33.80713  , -33.80713  , ..., -33.80713  ,\n        -33.80713  , -33.80713  ],\n       [-33.80713  , -33.80713  , -33.80713  , ..., -33.80713  ,\n        -33.80713  , -33.80713  ],\n       [-33.80713  , -33.80713  , -33.80713  , ..., -33.80713  ,\n        -33.80713  , -33.80713  ]], dtype=float32)"
     },
     "execution_count": 14,
     "metadata": {},
     "output_type": "execute_result"
    }
   ],
   "source": [
    "import librosa\n",
    "import numpy as np\n",
    "from PIL import Image\n",
    "\n",
    "def wav_to_spec_image(wav):\n",
    "    \"\"\"На вход принимает ссылку на wav\n",
    "        на выходе сохраняет изображение спектрограммы и возвращает массив с плавающей точкой\n",
    "    \"\"\"\n",
    "    audio_data = wav\n",
    "    x , sr = librosa.load(audio_data)\n",
    "    X = librosa.stft(x)\n",
    "    Xdb = librosa.amplitude_to_db(abs(X))\n",
    "    img = Image.fromarray(Xdb)\n",
    "    img.save(f\"{wav.split('.')[0]}.tiff\", format=\"TIFF\")\n",
    "    print(f\"Spec save like {wav.split('.')[0]}.tiff\")\n",
    "    return Xdb\n",
    "\n",
    "def spec_to_image(filename, x):\n",
    "    \"\"\"\n",
    "    На вход принимает название файла, который будет сохранён и массив спектрограммы.\n",
    "    На выходе сохраняет файл и возвращает массив с плавающей точкой\n",
    "    :param filename:\n",
    "    :param x:\n",
    "    :return:\n",
    "    \"\"\"\n",
    "    X = librosa.stft(x)\n",
    "    Xdb = librosa.amplitude_to_db(abs(X))\n",
    "    img = Image.fromarray(Xdb)\n",
    "    img.save(f\"{filename}.tiff\", format=\"TIFF\")\n",
    "    print(f\"Spec save like {filename}.tiff\")\n",
    "    return Xdb\n",
    "\n",
    "def image_to_audio_data(img):\n",
    "    \"\"\"\n",
    "    Принимает изображение на вход. Возвращает массив спектрограммы с плавающей точкой.\n",
    "    :param img:\n",
    "    :return:\n",
    "    \"\"\"\n",
    "    if type(img) == str:\n",
    "        img = Image.open(img)\n",
    "    img_array = np.asarray(img)\n",
    "    return img_array\n",
    "\n",
    "wav_to_spec_image(\"DuHast(бас).wav\")"
   ],
   "metadata": {
    "collapsed": false,
    "ExecuteTime": {
     "end_time": "2024-04-20T18:20:20.093306700Z",
     "start_time": "2024-04-20T18:20:19.435321400Z"
    }
   }
  },
  {
   "cell_type": "code",
   "execution_count": 16,
   "outputs": [
    {
     "data": {
      "text/plain": "array([[-33.80713  , -33.80713  , -33.80713  , ..., -33.80713  ,\n        -14.155909 , -10.637502 ],\n       [-33.80713  , -33.80713  , -33.80713  , ..., -33.80713  ,\n        -14.277291 , -10.641646 ],\n       [-33.80713  , -33.80713  , -33.80713  , ..., -33.706696 ,\n        -14.3887005, -11.470326 ],\n       ...,\n       [-33.80713  , -33.80713  , -33.80713  , ..., -33.80713  ,\n        -33.80713  , -33.80713  ],\n       [-33.80713  , -33.80713  , -33.80713  , ..., -33.80713  ,\n        -33.80713  , -33.80713  ],\n       [-33.80713  , -33.80713  , -33.80713  , ..., -33.80713  ,\n        -33.80713  , -33.80713  ]], dtype=float32)"
     },
     "execution_count": 16,
     "metadata": {},
     "output_type": "execute_result"
    }
   ],
   "source": [
    "image_to_audio_data('DuHast(бас).tiff')"
   ],
   "metadata": {
    "collapsed": false
   }
  },
  {
   "cell_type": "code",
   "execution_count": 17,
   "outputs": [
    {
     "data": {
      "text/plain": "array([[-33.80713  , -33.80713  , -33.80713  , ..., -33.80713  ,\n        -14.155909 , -10.637502 ],\n       [-33.80713  , -33.80713  , -33.80713  , ..., -33.80713  ,\n        -14.277291 , -10.641646 ],\n       [-33.80713  , -33.80713  , -33.80713  , ..., -33.706696 ,\n        -14.3887005, -11.470326 ],\n       ...,\n       [-33.80713  , -33.80713  , -33.80713  , ..., -33.80713  ,\n        -33.80713  , -33.80713  ],\n       [-33.80713  , -33.80713  , -33.80713  , ..., -33.80713  ,\n        -33.80713  , -33.80713  ],\n       [-33.80713  , -33.80713  , -33.80713  , ..., -33.80713  ,\n        -33.80713  , -33.80713  ]], dtype=float32)"
     },
     "execution_count": 17,
     "metadata": {},
     "output_type": "execute_result"
    }
   ],
   "source": [
    "test = Image.open('DuHast(бас).tiff')\n",
    "image_to_audio_data(test)"
   ],
   "metadata": {
    "collapsed": false,
    "ExecuteTime": {
     "end_time": "2024-04-20T18:21:12.918554300Z",
     "start_time": "2024-04-20T18:21:12.790069800Z"
    }
   }
  },
  {
   "cell_type": "code",
   "execution_count": 10,
   "outputs": [
    {
     "name": "stdout",
     "output_type": "stream",
     "text": [
      "Spec save like DuHast(бас).tiff\n"
     ]
    }
   ],
   "source": [
    "test1= Image.fromarray(wav_to_spec_image(\"DuHast(бас).wav\"))\n",
    "test1.show()"
   ],
   "metadata": {
    "collapsed": false,
    "ExecuteTime": {
     "end_time": "2024-04-20T18:17:27.333060200Z",
     "start_time": "2024-04-20T18:17:23.020570900Z"
    }
   }
  }
 ],
 "metadata": {
  "kernelspec": {
   "display_name": "Python 3",
   "language": "python",
   "name": "python3"
  },
  "language_info": {
   "codemirror_mode": {
    "name": "ipython",
    "version": 2
   },
   "file_extension": ".py",
   "mimetype": "text/x-python",
   "name": "python",
   "nbconvert_exporter": "python",
   "pygments_lexer": "ipython2",
   "version": "2.7.6"
  }
 },
 "nbformat": 4,
 "nbformat_minor": 0
}
